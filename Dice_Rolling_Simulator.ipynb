{
 "cells": [
  {
   "cell_type": "markdown",
   "metadata": {},
   "source": [
    "# Dice Rolling Simulator\n",
    "\n",
    "A quick and easy dice rolling simulator when you lose your dice."
   ]
  },
  {
   "cell_type": "code",
   "execution_count": 3,
   "metadata": {},
   "outputs": [
    {
     "name": "stdout",
     "output_type": "stream",
     "text": [
      "Done\n"
     ]
    }
   ],
   "source": [
    "## Import the necessary modules\n",
    "from random import randint\n",
    "print('Done')"
   ]
  },
  {
   "cell_type": "code",
   "execution_count": 4,
   "metadata": {},
   "outputs": [],
   "source": [
    "results = []\n",
    "\n",
    "## Defining the rolling function\n",
    "def roll():\n",
    "    x = randint(1, 6)\n",
    "    results.append(x)\n",
    "\n",
    "## Defining the function to roll again.\n",
    "def roll_again():\n",
    "    while True:\n",
    "        Q2 = input(\"Do you want to roll again with the same dice?: \")\n",
    "        print('--------------------------------------------------------------')\n",
    "        A2 = Q2[0].lower()\n",
    "        if Q2 == '' or not A2 in ['y', 'n']:\n",
    "            print(\"Please answer with a yes or no.\")\n",
    "        else:\n",
    "            break\n",
    "    if A2 == 'y':\n",
    "        for i in range(num_dice):\n",
    "            roll()\n",
    "        print()\n",
    "        print(\">>> You rolled\", results)\n",
    "        print(\">>> For a total of\", sum(results))\n",
    "        print()\n",
    "        results.clear()\n",
    "        roll_again()\n",
    "    if A2 == 'n':\n",
    "        print()\n",
    "        print(\"Thanks for playing.\")"
   ]
  },
  {
   "cell_type": "code",
   "execution_count": 6,
   "metadata": {},
   "outputs": [
    {
     "name": "stdout",
     "output_type": "stream",
     "text": [
      "Do you want to roll some dice?: y\n",
      "how many dice would you like to roll?: 5\n",
      "--------------------------------------------------------------\n",
      "\n",
      ">>> You rolled [3, 4, 6, 1, 1]\n",
      ">>> For a total of 15\n",
      "\n",
      "Do you want to roll again with the same dice?: yes\n",
      "--------------------------------------------------------------\n",
      "\n",
      ">>> You rolled [2, 2, 5, 2, 6]\n",
      ">>> For a total of 17\n",
      "\n",
      "Do you want to roll again with the same dice?: no\n",
      "--------------------------------------------------------------\n",
      "\n",
      "Thanks for playing.\n"
     ]
    }
   ],
   "source": [
    "while True:\n",
    "    Q1 = input(\"Do you want to roll some dice?: \")\n",
    "    A1 = Q1[0].lower()\n",
    "    if Q1 == '' or not A1 in ['y', 'n']:\n",
    "        print(\"Please answer with a yes or no.\")\n",
    "    else:\n",
    "        break\n",
    "\n",
    "if A1 == 'y':\n",
    "    num_dice = int(input(\"how many dice would you like to roll?: \"))\n",
    "    print('--------------------------------------------------------------')\n",
    "    for i in range(num_dice):\n",
    "        roll()\n",
    "    print()\n",
    "    print(\">>> You rolled\", results)\n",
    "    print(\">>> For a total of\", sum(results))\n",
    "    print()\n",
    "    results.clear()\n",
    "    roll_again()\n",
    "if A1 == 'n':\n",
    "    print()\n",
    "    print(\"Thanks for playing.\")"
   ]
  }
 ],
 "metadata": {
  "kernelspec": {
   "display_name": "Python 3",
   "language": "python",
   "name": "python3"
  },
  "language_info": {
   "codemirror_mode": {
    "name": "ipython",
    "version": 3
   },
   "file_extension": ".py",
   "mimetype": "text/x-python",
   "name": "python",
   "nbconvert_exporter": "python",
   "pygments_lexer": "ipython3",
   "version": "3.7.4"
  }
 },
 "nbformat": 4,
 "nbformat_minor": 2
}
